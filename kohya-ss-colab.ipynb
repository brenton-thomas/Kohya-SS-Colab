{
  "cells": [
    {
      "cell_type": "markdown",
      "metadata": {},
      "source": [
        "## Kohya LoRA"
      ]
    },
    {
      "cell_type": "code",
      "execution_count": null,
      "metadata": {
        "id": "NrgcDwZxgDOe"
      },
      "outputs": [],
      "source": [
        "\n",
        "%cd /content\n",
        "from google.colab import drive\n",
        "drive.mount('/content/drive')\n",
        "\n",
        "#could put a text field here - but haven't\n",
        "#text = 'value' # @param {type:\"string\"}\n",
        "\n",
        "install_root=\"/content/drive/MyDrive/ai/lora\"\n",
        "%mkdir -p $install_root\n",
        "\n",
        "!pip install dadaptation==3.1 diffusers[torch]==0.17.1 easygui==0.98.3 einops==0.6.0 fairscale==0.4.13 ftfy==6.1.1 gradio==3.36.1 huggingface-hub==0.14.1 \n",
        "!pip install lion-pytorch==0.0.6 lycoris_lora==1.8.0.dev6 open-clip-torch==2.20.0 prodigyopt==1.0 pytorch-lightning==1.9.0 safetensors==0.3.1 timm==0.6.12 \n",
        "!pip install tk==0.1.0 transformers==4.30.2 voluptuous==0.13.1 wandb==0.15.0 xformers==0.0.20 \n",
        "#!pip install omegaconf - conflict with pydevd_plugins - required a restart, seems to be unecessary\n",
        " \n",
        "import os\n",
        "%cd $install_root\n",
        "if not os.path.exists(f\"{install_root}/bitsandbytes\"):\n",
        "    !git clone -b main https://github.com/TimDettmers/bitsandbytes\n",
        "\n",
        "%cd \"$install_root/bitsandbytes\"\n",
        "!git reset --hard\n",
        "!git pull origin main\n",
        "\n",
        "#!CUDA_VERSION=118 make cuda11x\n",
        "!python setup.py install\n",
        "\n",
        "%cd $install_root\n",
        "if not os.path.exists(f\"{install_root}/kohya_ss\"):\n",
        "    !git clone -b master https://github.com/camenduru/kohya_ss\n",
        "\n",
        "%cd \"$install_root/kohya_ss\"\n",
        "!git reset --hard\n",
        "!git pull origin master\n",
        "\n",
        "\n",
        "!python kohya_gui.py --share --headless\n",
        "\n"
      ]
    },
    {
      "cell_type": "code",
      "execution_count": null,
      "metadata": {},
      "outputs": [],
      "source": [
        "#@title Convert Safetensors to Diffusers\n",
        "from_safetensors_url = '' #@param {type:\"string\"}\n",
        "!wget -q https://raw.githubusercontent.com/huggingface/diffusers/v0.17.1/scripts/convert_original_stable_diffusion_to_diffusers.py\n",
        "!wget {from_safetensors_url} -O /content/model.safetensors\n",
        "!python3 convert_original_stable_diffusion_to_diffusers.py --half --from_safetensors --checkpoint_path model.safetensors --dump_path /content/model"
      ]
    }
  ],
  "metadata": {
    "accelerator": "GPU",
    "colab": {
      "gpuType": "T4",
      "provenance": []
    },
    "kernelspec": {
      "display_name": "Python 3",
      "name": "python3"
    },
    "language_info": {
      "name": "python"
    }
  },
  "nbformat": 4,
  "nbformat_minor": 0
}
